{
 "cells": [
  {
   "cell_type": "code",
   "execution_count": 46,
   "id": "d458dcc0-374e-4cf1-a7ad-6195821c2859",
   "metadata": {},
   "outputs": [],
   "source": [
    "import pandas as pd"
   ]
  },
  {
   "cell_type": "code",
   "execution_count": 105,
   "id": "4e631768-db1d-4229-89f5-4e2dd6130100",
   "metadata": {},
   "outputs": [],
   "source": [
    "import os\n",
    "\n",
    "path = \"./TC_ELCTY_ATMBL_ELCTC_RECD_20230609095252/\"\n",
    "file_list = os.listdir(path)"
   ]
  },
  {
   "cell_type": "code",
   "execution_count": null,
   "id": "a37b0e11-6849-4114-90df-7c7eb7bbc728",
   "metadata": {
    "scrolled": true
   },
   "outputs": [],
   "source": [
    "data = []\n",
    "for file_name in file_list:\n",
    "    file_path = path + file_name\n",
    "    data.append(pd.read_csv(file_path))\n",
    "\n",
    "data = pd.concat(data, ignore_index=True)"
   ]
  },
  {
   "cell_type": "code",
   "execution_count": 109,
   "id": "06bb3e4c-6567-446d-94a9-ed0e46051d21",
   "metadata": {},
   "outputs": [
    {
     "name": "stdout",
     "output_type": "stream",
     "text": [
      "<class 'pandas.core.frame.DataFrame'>\n",
      "RangeIndex: 11094788 entries, 0 to 11094787\n",
      "Data columns (total 24 columns):\n",
      " #   Column         Dtype \n",
      "---  ------         ----- \n",
      " 0   충전_일시          object\n",
      " 1   충전소_ID         object\n",
      " 2   충전기_ID         object\n",
      " 3   시도_코드          int64 \n",
      " 4   시군구_코드         int64 \n",
      " 5   시도_명           object\n",
      " 6   시군구_명          object\n",
      " 7   충전소_명          object\n",
      " 8   위도             int64 \n",
      " 9   경도             int64 \n",
      " 10  충전_구분          int64 \n",
      " 11  충전_방식          object\n",
      " 12  시작_일시          object\n",
      " 13  종료_일시          object\n",
      " 14  시작_SOC         int64 \n",
      " 15  종료_SOC         int64 \n",
      " 16  SOC_충전_량       int64 \n",
      " 17  전력_사용량         int64 \n",
      " 18  충전_시간          int64 \n",
      " 19  전력_사용량_(경부하)   int64 \n",
      " 20  전력_사용량_(중간부하)  int64 \n",
      " 21  전력_사용량_(최대부하)  int64 \n",
      " 22  비고             object\n",
      " 23  생산_일시          object\n",
      "dtypes: int64(13), object(11)\n",
      "memory usage: 2.0+ GB\n"
     ]
    }
   ],
   "source": [
    "data.info()\n",
    "# 충전기ID, 시작일시, 종료일시, 전력사용량만 활용한다\n",
    "# 충전기ID 별로 데이터를 정리한다\n",
    "# 충전 속도는 일정하다고 가정한다\n",
    "# 충전을 1시 30분부터 2시 30분까지 했다면 충전량을 30:30으로 나눠서 1시 데이터에 누적, 2시데이터에 누적한다\n",
    "# 데이터를 기록한 총 날수로 나눠서 각 충전기ID의 시간별 충전량 평균치를 구한다\n",
    "# 이 값으로 어떻게든 클러스터링 한다"
   ]
  },
  {
   "cell_type": "code",
   "execution_count": 112,
   "id": "579b6144-ffbf-41de-bebb-2bd3e5315e1e",
   "metadata": {},
   "outputs": [
    {
     "data": {
      "text/plain": [
       "충전_일시             2023-01-02 00:51:40\n",
       "충전소_ID                    KRPPKCS0042\n",
       "충전기_ID                    KRPPKCP0267\n",
       "시도_코드                              26\n",
       "시군구_코드                            230\n",
       "시도_명                            부산광역시\n",
       "시군구_명                            부산진구\n",
       "충전소_명                        **** ***\n",
       "위도                                 35\n",
       "경도                                129\n",
       "충전_구분                              13\n",
       "충전_방식                               D\n",
       "시작_일시             2023-01-02 00:00:16\n",
       "종료_일시             2023-01-02 01:01:20\n",
       "시작_SOC                             46\n",
       "종료_SOC                            100\n",
       "SOC_충전_량                           95\n",
       "전력_사용량                             96\n",
       "충전_시간                               0\n",
       "전력_사용량_(경부하)                       96\n",
       "전력_사용량_(중간부하)                       0\n",
       "전력_사용량_(최대부하)                       0\n",
       "비고               2023-04-04 전기차 충전 이력\n",
       "생산_일시             2023-04-04 16:21:54\n",
       "Name: 3000, dtype: object"
      ]
     },
     "execution_count": 112,
     "metadata": {},
     "output_type": "execute_result"
    }
   ],
   "source": [
    "data.iloc[3000]"
   ]
  },
  {
   "cell_type": "code",
   "execution_count": 75,
   "id": "dfff25a7-9b8f-4903-ba33-b788ebc5a800",
   "metadata": {},
   "outputs": [
    {
     "data": {
      "text/plain": [
       "array([13], dtype=int64)"
      ]
     },
     "execution_count": 75,
     "metadata": {},
     "output_type": "execute_result"
    }
   ],
   "source": [
    "data['충전_구분'].unique() # 13"
   ]
  },
  {
   "cell_type": "code",
   "execution_count": 76,
   "id": "21124c16-bb8e-4c60-a8b9-c1dee17e7788",
   "metadata": {},
   "outputs": [
    {
     "data": {
      "text/plain": [
       "array(['D'], dtype=object)"
      ]
     },
     "execution_count": 76,
     "metadata": {},
     "output_type": "execute_result"
    }
   ],
   "source": [
    "data['충전_방식'].unique() # D"
   ]
  },
  {
   "cell_type": "code",
   "execution_count": 80,
   "id": "779545de-1e18-458b-94a8-cca825d777ad",
   "metadata": {},
   "outputs": [
    {
     "data": {
      "text/plain": [
       "'2022-12-31 22:12:28'"
      ]
     },
     "execution_count": 80,
     "metadata": {},
     "output_type": "execute_result"
    }
   ],
   "source": [
    "data.loc[0,'종료_일시']\n",
    "data.loc[0,'시작_일시']"
   ]
  },
  {
   "cell_type": "code",
   "execution_count": 92,
   "id": "58a67d81-f3ae-4edd-94dd-515024e434c8",
   "metadata": {},
   "outputs": [],
   "source": [
    "from datetime import datetime, timedelta"
   ]
  },
  {
   "cell_type": "code",
   "execution_count": 88,
   "id": "8b3930b2-2bb1-4ae2-a9ee-7c2094c1b2c7",
   "metadata": {},
   "outputs": [],
   "source": [
    "date_time_str1 = data.loc[0,'종료_일시']  \n",
    "date_time_obj1 = datetime.strptime(date_time_str1, '%Y-%m-%d %H:%M:%S')\n",
    "\n",
    "date_time_str2 = data.loc[0,'시작_일시']  \n",
    "date_time_obj2 = datetime.strptime(date_time_str2, '%Y-%m-%d %H:%M:%S')"
   ]
  },
  {
   "cell_type": "code",
   "execution_count": 90,
   "id": "fb446016-ea7f-4213-ac0f-1e22677c2e0f",
   "metadata": {},
   "outputs": [
    {
     "data": {
      "text/plain": [
       "datetime.datetime(2023, 1, 1, 0, 0)"
      ]
     },
     "execution_count": 90,
     "metadata": {},
     "output_type": "execute_result"
    }
   ],
   "source": [
    "date_time_obj1"
   ]
  },
  {
   "cell_type": "code",
   "execution_count": 91,
   "id": "46032541-1db3-4f73-9dc0-0a590d056c5d",
   "metadata": {},
   "outputs": [
    {
     "data": {
      "text/plain": [
       "datetime.datetime(2022, 12, 31, 22, 12, 28)"
      ]
     },
     "execution_count": 91,
     "metadata": {},
     "output_type": "execute_result"
    }
   ],
   "source": [
    "date_time_obj2"
   ]
  },
  {
   "cell_type": "code",
   "execution_count": 108,
   "id": "4d4bd4c7-0f12-4d25-a80b-564b76b26b55",
   "metadata": {},
   "outputs": [
    {
     "data": {
      "text/plain": [
       "6452"
      ]
     },
     "execution_count": 108,
     "metadata": {},
     "output_type": "execute_result"
    }
   ],
   "source": [
    "(date_time_obj1-date_time_obj2).seconds"
   ]
  },
  {
   "cell_type": "code",
   "execution_count": 101,
   "id": "b995a77a-4cc3-452a-be47-23236341f055",
   "metadata": {},
   "outputs": [
    {
     "data": {
      "text/plain": [
       "array(['KRPPKCS0001', 'KRPPKCS0072', 'KRPPKCS0023', 'KRPPKCS0004',\n",
       "       'KRPPKCS0063', 'KRPPKCS0057', 'KRPPKCS0103', 'KRPPKCS0118',\n",
       "       'KRPPKCS0002', 'KRPPKCS0005', 'KRPPKCS0075', 'KRPPKCS0042',\n",
       "       'KRPPKCS0080', 'KRPPKCS0082', 'KRPPKCS0091', 'KRPPKCS0022',\n",
       "       'KRPPKCS0112', 'KRPPKCS0076', 'KRPPKCS0047', 'KRPPKCS0016',\n",
       "       'KRPPKCS0020', 'KRPPKCS0090', 'KRPPKCS0028', 'KRPPKCS0040',\n",
       "       'KRPPKCS0052', 'KRPPKCS0073', 'KRPPKCS0068', 'KRPPKCS0018',\n",
       "       'KRPPKCS0008', 'KRPPKCS0102', 'KRPPKCS0011', 'KRPPKCS0012',\n",
       "       'KRPPKCS0027', 'KRPPKCS0066', 'KRPPKCS0081', 'KRPPKCS0045',\n",
       "       'KRPPKCS0048', 'KRPPKCS0088', 'KRPPKCS0064', 'KRPPKCS0041',\n",
       "       'KRPPKCS0105', 'KRPPKCS0044', 'KRPPKCS0051', 'KRPPKCS0069',\n",
       "       'KRPPKCS0065', 'KRPPKCS0039', 'KRPPKCS0111', 'KRPPKCS0113',\n",
       "       'KRPPKCS0074', 'KRPPKCS0117', 'KRPPKCS0007', 'KRPPKCS0067',\n",
       "       'KRPPKCS0032', 'KRPPKCS0071', 'KRPPKCS0015', 'KRPPKCS0006',\n",
       "       'KRPPKCS0100', 'KRPPKCS0123', 'KRPPKCS0087', 'KRPPKCS0109',\n",
       "       'KRPPKCS0119', 'KRPPKCS0021', 'KRPPKCS0108', 'KRPPKCS0101',\n",
       "       'KRPPKCS0049', 'KRPPKCS0024', 'KRPPKCS0106', 'KRPPKCS0084',\n",
       "       'KRPPKCS0079', 'KRPPKCS0094', 'KRPPKCS0115', 'KRPPKCS0061',\n",
       "       'KRPPKCS0085', 'KRPPKCS0121', 'KRPPKCS0114', 'KRPPKCS0034',\n",
       "       'KRPPKCS0099', 'KRPPKCS0070', 'KRPPKCS0062', 'KRPPKCS0096',\n",
       "       'KRPPKCS0097', 'KRPPKCS0092', 'KRPPKCS0116', 'KRPPKCS0122',\n",
       "       'KRPPKCS0089', 'KRPPKCS0086', 'KRPPKCS0120', 'KRPPKCS0110',\n",
       "       'KRPPKCS0014', 'KRPPKCS0083', 'KRPPKCS0046', 'KRPPKCS0009',\n",
       "       'KRPPKCS0050', 'KRPPKCS0104', 'KRPPKCS0124', 'KRPPKCS0013',\n",
       "       'KRPPKCS0025', 'KRPPKCS0037', 'KRPPKCS0043', 'KRPPKCS0019',\n",
       "       'KRPPKCS0053'], dtype=object)"
      ]
     },
     "execution_count": 101,
     "metadata": {},
     "output_type": "execute_result"
    }
   ],
   "source": [
    "data.loc[:,'충전소_ID'].unique()"
   ]
  },
  {
   "cell_type": "code",
   "execution_count": 103,
   "id": "de6ced8b-84e7-4c9f-81d6-a88d2b75d6fe",
   "metadata": {},
   "outputs": [
    {
     "data": {
      "text/plain": [
       "101"
      ]
     },
     "execution_count": 103,
     "metadata": {},
     "output_type": "execute_result"
    }
   ],
   "source": [
    "len(data.loc[:,'충전소_ID'].unique())"
   ]
  },
  {
   "cell_type": "code",
   "execution_count": 104,
   "id": "c0731054-5de9-4d57-bddc-bce457f3f52f",
   "metadata": {},
   "outputs": [
    {
     "data": {
      "text/plain": [
       "650"
      ]
     },
     "execution_count": 104,
     "metadata": {},
     "output_type": "execute_result"
    }
   ],
   "source": [
    "len(data.loc[:,'충전기_ID'].unique())"
   ]
  }
 ],
 "metadata": {
  "kernelspec": {
   "display_name": "Python 3 (ipykernel)",
   "language": "python",
   "name": "python3"
  },
  "language_info": {
   "codemirror_mode": {
    "name": "ipython",
    "version": 3
   },
   "file_extension": ".py",
   "mimetype": "text/x-python",
   "name": "python",
   "nbconvert_exporter": "python",
   "pygments_lexer": "ipython3",
   "version": "3.12.0"
  }
 },
 "nbformat": 4,
 "nbformat_minor": 5
}
